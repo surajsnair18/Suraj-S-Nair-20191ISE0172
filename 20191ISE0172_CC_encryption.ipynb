{
  "nbformat": 4,
  "nbformat_minor": 0,
  "metadata": {
    "colab": {
      "name": "20191ISE0172_CC_encryption.ipynb",
      "provenance": []
    },
    "kernelspec": {
      "name": "python3",
      "display_name": "Python 3"
    },
    "language_info": {
      "name": "python"
    }
  },
  "cells": [
    {
      "cell_type": "code",
      "metadata": {
        "colab": {
          "base_uri": "https://localhost:8080/"
        },
        "id": "YyQNTGHU_lNl",
        "outputId": "077eddd6-425e-4cfc-e704-8eb150610b46"
      },
      "source": [
        "import string\n",
        "from time import sleep\n",
        "def caesar_encryption(plaintext,key):\n",
        "  encryption_str = ''\n",
        "  for i in plaintext:\n",
        "    if i.isupper():\n",
        "      temp = 65 + ((ord(i) - 65 + key) % 26) \n",
        "      encryption_str = encryption_str + chr(temp)                              \n",
        "    elif i.islower():\n",
        "      temp = 97 + ((ord(i) - 97 + key) % 26)\n",
        "      encryption_str = encryption_str + chr(temp)\n",
        "    else:\n",
        "      encryption_str = encryption_str + i  \n",
        " \n",
        "  print(\"The ciphertext is:\",encryption_str)\n",
        " \n",
        "plaintext = input(\"Enter the plaintext:\")\n",
        "key = int(input(\"Enter the key:\"))\n",
        "print(\"\\nDecrypting your message...\\n\")\n",
        "sleep(2) \n",
        "print(\"Stand by, almost finished...\\n\")\n",
        "sleep(2) \n",
        "caesar_encryption(plaintext,key)"
      ],
      "execution_count": 1,
      "outputs": [
        {
          "output_type": "stream",
          "name": "stdout",
          "text": [
            "Enter the plaintext:Suraj S Nair\n",
            "Enter the key:18\n",
            "\n",
            "Decrypting your message...\n",
            "\n",
            "Stand by, almost finished...\n",
            "\n",
            "The ciphertext is: Kmjsb K Fsaj\n"
          ]
        }
      ]
    }
  ]
}