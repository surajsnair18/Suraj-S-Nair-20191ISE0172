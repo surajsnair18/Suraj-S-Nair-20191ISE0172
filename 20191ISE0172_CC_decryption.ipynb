{
  "nbformat": 4,
  "nbformat_minor": 0,
  "metadata": {
    "colab": {
      "name": "20191ISE0172_CC_decryption.ipynb",
      "provenance": []
    },
    "kernelspec": {
      "name": "python3",
      "display_name": "Python 3"
    },
    "language_info": {
      "name": "python"
    }
  },
  "cells": [
    {
      "cell_type": "code",
      "metadata": {
        "colab": {
          "base_uri": "https://localhost:8080/"
        },
        "id": "i_m_CLxI-WRk",
        "outputId": "fbfb87d1-dc2f-44bb-ef42-9e917989db79"
      },
      "source": [
        "import string\n",
        "from time import sleep\n",
        "\n",
        "alphabet = string.ascii_lowercase # \"abcdefghijklmnopqrstuvwxyz\"\n",
        "\n",
        "def decrypt():\n",
        "    \n",
        "    print(\"Welcome to Caesar Cipher Decryption.\\n\")\n",
        "    encrypted_message = input(\"Enter the message you would like to decrypt: \").strip()\n",
        "    print()\n",
        "    key = int(input(\"Enter key to decrypt: \"))\n",
        "    \n",
        "    decrypted_message = \"\"\n",
        "\n",
        "    for c in encrypted_message:\n",
        "\n",
        "        if c in alphabet:\n",
        "            position = alphabet.find(c)\n",
        "            new_position = (position - key) % 26\n",
        "            new_character = alphabet[new_position]\n",
        "            decrypted_message += new_character\n",
        "        else:\n",
        "            decrypted_message += c\n",
        "\n",
        "    print(\"\\nDecrypting your message...\\n\")\n",
        "    sleep(2) \n",
        "    print(\"Stand by, almost finished...\\n\")\n",
        "    sleep(2) \n",
        "    print(\"Your decrypted message is:\\n\")\n",
        "    print(decrypted_message)\n",
        "\n",
        "decrypt()"
      ],
      "execution_count": 9,
      "outputs": [
        {
          "output_type": "stream",
          "name": "stdout",
          "text": [
            "Welcome to Caesar Cipher Decryption.\n",
            "\n",
            "Enter the message you would like to decrypt: Suraj S  Nair\n",
            "\n",
            "Enter key to decrypt: 18\n",
            "\n",
            "Decrypting your message...\n",
            "\n",
            "Stand by, almost finished...\n",
            "\n",
            "Your decrypted message is:\n",
            "\n",
            "Sczir S  Niqz\n"
          ]
        }
      ]
    }
  ]
}